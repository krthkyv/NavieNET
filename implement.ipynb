{
 "cells": [
  {
   "cell_type": "code",
   "execution_count": 17,
   "metadata": {},
   "outputs": [],
   "source": [
    "xTrain = [\n",
    "    [0.1, 0.2],\n",
    "    [0.3, -0.2],\n",
    "    [-0.5, 0.4],\n",
    "    [0.7, 0.1],\n",
    "    [-0.6, 0.5],\n",
    "    [0.3, 0.4],\n",
    "    [-0.4, 0.3],\n",
    "    [0.2, 0.6],\n",
    "    [-0.3, -0.2],\n",
    "    [0.1, -0.1],\n",
    "    [0.5, -0.3],\n",
    "    [-0.2, -0.1],\n",
    "    [0.4, 0.4],\n",
    "    [-0.4, -0.4],\n",
    "    [0.6, -0.5]\n",
    "]\n",
    "\n",
    "yTrain = [\n",
    "    [0.3],\n",
    "    [0.1],\n",
    "    [-0.1],\n",
    "    [0.8],\n",
    "    [-0.1],\n",
    "    [0.7],\n",
    "    [-0.1],\n",
    "    [0.8],\n",
    "    [-0.5],\n",
    "    [0.0],\n",
    "    [0.2],\n",
    "    [-0.3],\n",
    "    [0.8],\n",
    "    [-0.8],\n",
    "    [0.1]\n",
    "]\n",
    "\n",
    "\n",
    "xTest = [\n",
    "    [0.1, 0.5],\n",
    "    [-0.6, -0.4],\n",
    "    [0.4, -0.3],\n",
    "    [-0.7, 0.7],\n",
    "    [0.2, -0.1]\n",
    "]\n",
    "\n",
    "yTest = [\n",
    "    [0.6],\n",
    "    [-1.0],\n",
    "    [0.1],\n",
    "    [0.0],\n",
    "    [0.1]\n",
    "]"
   ]
  },
  {
   "cell_type": "code",
   "execution_count": 18,
   "metadata": {},
   "outputs": [],
   "source": [
    "import Mach1_NaiveNet as mach1"
   ]
  },
  {
   "cell_type": "code",
   "execution_count": 19,
   "metadata": {},
   "outputs": [],
   "source": [
    "# initialising the network with dimensions\n",
    "network = mach1.getNetwork(layerDims=[2, 8, 8, 8, 4, 1])"
   ]
  },
  {
   "cell_type": "code",
   "execution_count": 20,
   "metadata": {},
   "outputs": [
    {
     "name": "stdout",
     "output_type": "stream",
     "text": [
      "0.1 + 0.2 =  -0.8542486254414958\n",
      "-0.8 + -0.1 =  -0.9299670901090463\n"
     ]
    }
   ],
   "source": [
    "# what the network thinks pre training 0.1 + 0.2 is \n",
    "print(\"0.1 + 0.2 = \", network(inputVec=[0.1, 0.2])[0].data)\n",
    "\n",
    "# what the network thinks pre training -0.8 + - 0.1 is \n",
    "print(\"-0.8 + -0.1 = \", network(inputVec=[-0.8, -0.1])[0].data)"
   ]
  },
  {
   "cell_type": "code",
   "execution_count": 21,
   "metadata": {},
   "outputs": [
    {
     "data": {
      "text/plain": [
       "0.8476878708909465"
      ]
     },
     "execution_count": 21,
     "metadata": {},
     "output_type": "execute_result"
    }
   ],
   "source": [
    "# MAE across test data set for predictions\n",
    "mach1.dataSetErrorEval(xTest, yTest, network)"
   ]
  },
  {
   "cell_type": "code",
   "execution_count": 22,
   "metadata": {},
   "outputs": [],
   "source": [
    "# Training the network\n",
    "mach1.trainer(network, xTrain, yTrain, lr = 0.001, epochs=1000)"
   ]
  },
  {
   "cell_type": "code",
   "execution_count": 23,
   "metadata": {},
   "outputs": [
    {
     "data": {
      "text/plain": [
       "0.08821817795703574"
      ]
     },
     "execution_count": 23,
     "metadata": {},
     "output_type": "execute_result"
    }
   ],
   "source": [
    "mach1.dataSetErrorEval(xTest, yTest, network)"
   ]
  },
  {
   "cell_type": "code",
   "execution_count": 24,
   "metadata": {},
   "outputs": [
    {
     "name": "stdout",
     "output_type": "stream",
     "text": [
      "0.1 + 0.2 =  0.2286271685371881\n",
      "-0.8 + -0.1 =  -0.8898528827896286\n"
     ]
    }
   ],
   "source": [
    "# what the network thinks post training 0.1 + 0.2 is \n",
    "print(\"0.1 + 0.2 = \", network(inputVec=[0.1, 0.2])[0].data)\n",
    "\n",
    "# what the network thinks post training -0.8 + - 0.1 is \n",
    "print(\"-0.8 + -0.1 = \", network(inputVec=[-0.8, -0.1])[0].data)"
   ]
  },
  {
   "cell_type": "code",
   "execution_count": 1,
   "metadata": {},
   "outputs": [],
   "source": [
    "!git add ."
   ]
  },
  {
   "cell_type": "code",
   "execution_count": null,
   "metadata": {},
   "outputs": [],
   "source": [
    "!git commit -m \"\""
   ]
  }
 ],
 "metadata": {
  "kernelspec": {
   "display_name": "Python 3",
   "language": "python",
   "name": "python3"
  },
  "language_info": {
   "codemirror_mode": {
    "name": "ipython",
    "version": 3
   },
   "file_extension": ".py",
   "mimetype": "text/x-python",
   "name": "python",
   "nbconvert_exporter": "python",
   "pygments_lexer": "ipython3",
   "version": "3.11.9"
  }
 },
 "nbformat": 4,
 "nbformat_minor": 2
}
