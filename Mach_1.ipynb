{
 "cells": [
  {
   "cell_type": "code",
   "execution_count": 76,
   "metadata": {},
   "outputs": [],
   "source": [
    "import random"
   ]
  },
  {
   "cell_type": "code",
   "execution_count": 132,
   "metadata": {},
   "outputs": [],
   "source": [
    "class value:\n",
    "    def __init__(self, data, label = \"V\", backprop = lambda : None, grad = 0.0):\n",
    "        self.data, self.label, self.backprop, self.grad = data, label, backprop, grad\n",
    "    def __add__(self, other):\n",
    "        out =  value(self.data + other.data)\n",
    "        def backprop():\n",
    "            self.grad = out.grad\n",
    "            other.grad = out.grad\n",
    "            self.backprop()\n",
    "            other.backprop()\n",
    "        out.backprop = backprop\n",
    "        return out\n",
    "    def __mul__(self, other):\n",
    "        out =  value(self.data * other.data)\n",
    "        def backprop():\n",
    "            self.grad = other.data * out.grad\n",
    "            other.grad = self.data * out.grad\n",
    "            self.backprop()\n",
    "            other.backprop()\n",
    "        out.backprop = backprop\n",
    "        return out\n",
    "    def __radd__(self, other):\n",
    "        return self.__add__(value(other))\n",
    "    def __repr__(self):\n",
    "        return f\"{self.label} : {self.data}\"\n",
    "\n",
    "\n",
    "def Numerical2Value(numericalArr : list):\n",
    "    return [value(numerical) for numerical in numericalArr]"
   ]
  },
  {
   "cell_type": "code",
   "execution_count": 136,
   "metadata": {},
   "outputs": [],
   "source": [
    "from typing import Any\n",
    "\n",
    "\n",
    "class neuron:\n",
    "    def __init__(self, inputSize):\n",
    "        self.b = value(random.uniform(-1, 1))\n",
    "        self.w = [value(random.uniform(-1, 1)) for _ in range(inputSize)]\n",
    "    def __call__(self, inputs):\n",
    "        weightedSum = sum([xi * wi for xi, wi in zip(inputs, self.w)])\n",
    "        addedBias = self.b + weightedSum\n",
    "        return addedBias\n",
    "\n",
    "class layer:\n",
    "    def __init__(self, inputSize, outputSize):\n",
    "        self.neurons = [neuron(inputSize) for _ in range(outputSize)]\n",
    "    def __call__(self, inputs):\n",
    "        return [n(inputs) for n in self.neurons]\n",
    "\n",
    "class network:\n",
    "    def __init__(self, layerDims):\n",
    "        self.layers = []\n",
    "        for i in range(len(layerDims) - 1):\n",
    "            self.layers.append(layer(layerDims[i], layerDims[i + 1]))\n",
    "    def __call__(self, inputVec):\n",
    "        outputVec = inputVec\n",
    "        for layer in self.layers:\n",
    "            outputVec = layer(outputVec)\n",
    "        return outputVec\n"
   ]
  },
  {
   "cell_type": "code",
   "execution_count": 141,
   "metadata": {},
   "outputs": [
    {
     "data": {
      "text/plain": [
       "[V : 3.473010961096003]"
      ]
     },
     "execution_count": 141,
     "metadata": {},
     "output_type": "execute_result"
    }
   ],
   "source": [
    "n = network([2, 4, 4, 1])\n",
    "n(Numerical2Value([1, 2]))"
   ]
  },
  {
   "cell_type": "code",
   "execution_count": null,
   "metadata": {},
   "outputs": [],
   "source": [
    "!git "
   ]
  }
 ],
 "metadata": {
  "kernelspec": {
   "display_name": "Python 3",
   "language": "python",
   "name": "python3"
  },
  "language_info": {
   "codemirror_mode": {
    "name": "ipython",
    "version": 3
   },
   "file_extension": ".py",
   "mimetype": "text/x-python",
   "name": "python",
   "nbconvert_exporter": "python",
   "pygments_lexer": "ipython3",
   "version": "3.11.9"
  }
 },
 "nbformat": 4,
 "nbformat_minor": 2
}
